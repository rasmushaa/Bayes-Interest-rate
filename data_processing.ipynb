{
 "cells": [
  {
   "cell_type": "code",
   "execution_count": 1,
   "metadata": {},
   "outputs": [],
   "source": [
    "import pandas as pd"
   ]
  },
  {
   "cell_type": "code",
   "execution_count": 17,
   "metadata": {},
   "outputs": [
    {
     "data": {
      "text/html": [
       "<div>\n",
       "<style scoped>\n",
       "    .dataframe tbody tr th:only-of-type {\n",
       "        vertical-align: middle;\n",
       "    }\n",
       "\n",
       "    .dataframe tbody tr th {\n",
       "        vertical-align: top;\n",
       "    }\n",
       "\n",
       "    .dataframe thead th {\n",
       "        text-align: right;\n",
       "    }\n",
       "</style>\n",
       "<table border=\"1\" class=\"dataframe\">\n",
       "  <thead>\n",
       "    <tr style=\"text-align: right;\">\n",
       "      <th></th>\n",
       "      <th>title</th>\n",
       "      <th>name</th>\n",
       "      <th>value</th>\n",
       "    </tr>\n",
       "  </thead>\n",
       "  <tbody>\n",
       "    <tr>\n",
       "      <th>0</th>\n",
       "      <td>2023-04-25</td>\n",
       "      <td>euribor_1_month</td>\n",
       "      <td>3.024</td>\n",
       "    </tr>\n",
       "    <tr>\n",
       "      <th>1</th>\n",
       "      <td>2023-04-25</td>\n",
       "      <td>euribor_3_month</td>\n",
       "      <td>3.268</td>\n",
       "    </tr>\n",
       "    <tr>\n",
       "      <th>2</th>\n",
       "      <td>2023-04-25</td>\n",
       "      <td>euribor_6_month</td>\n",
       "      <td>3.635</td>\n",
       "    </tr>\n",
       "    <tr>\n",
       "      <th>3</th>\n",
       "      <td>2023-04-25</td>\n",
       "      <td>euribor_12_month</td>\n",
       "      <td>3.900</td>\n",
       "    </tr>\n",
       "    <tr>\n",
       "      <th>4</th>\n",
       "      <td>2023-04-24</td>\n",
       "      <td>euribor_1_month</td>\n",
       "      <td>3.031</td>\n",
       "    </tr>\n",
       "    <tr>\n",
       "      <th>...</th>\n",
       "      <td>...</td>\n",
       "      <td>...</td>\n",
       "      <td>...</td>\n",
       "    </tr>\n",
       "    <tr>\n",
       "      <th>31189</th>\n",
       "      <td>1999-01-05</td>\n",
       "      <td>euribor_12_month</td>\n",
       "      <td>3.187</td>\n",
       "    </tr>\n",
       "    <tr>\n",
       "      <th>31191</th>\n",
       "      <td>1999-01-04</td>\n",
       "      <td>euribor_1_month</td>\n",
       "      <td>3.242</td>\n",
       "    </tr>\n",
       "    <tr>\n",
       "      <th>31192</th>\n",
       "      <td>1999-01-04</td>\n",
       "      <td>euribor_3_month</td>\n",
       "      <td>3.234</td>\n",
       "    </tr>\n",
       "    <tr>\n",
       "      <th>31193</th>\n",
       "      <td>1999-01-04</td>\n",
       "      <td>euribor_6_month</td>\n",
       "      <td>3.223</td>\n",
       "    </tr>\n",
       "    <tr>\n",
       "      <th>31194</th>\n",
       "      <td>1999-01-04</td>\n",
       "      <td>euribor_12_month</td>\n",
       "      <td>3.209</td>\n",
       "    </tr>\n",
       "  </tbody>\n",
       "</table>\n",
       "<p>24968 rows × 3 columns</p>\n",
       "</div>"
      ],
      "text/plain": [
       "           title              name  value\n",
       "0     2023-04-25   euribor_1_month  3.024\n",
       "1     2023-04-25   euribor_3_month  3.268\n",
       "2     2023-04-25   euribor_6_month  3.635\n",
       "3     2023-04-25  euribor_12_month  3.900\n",
       "4     2023-04-24   euribor_1_month  3.031\n",
       "...          ...               ...    ...\n",
       "31189 1999-01-05  euribor_12_month  3.187\n",
       "31191 1999-01-04   euribor_1_month  3.242\n",
       "31192 1999-01-04   euribor_3_month  3.234\n",
       "31193 1999-01-04   euribor_6_month  3.223\n",
       "31194 1999-01-04  euribor_12_month  3.209\n",
       "\n",
       "[24968 rows x 3 columns]"
      ]
     },
     "metadata": {},
     "output_type": "display_data"
    },
    {
     "name": "stdout",
     "output_type": "stream",
     "text": [
      "<class 'pandas.core.frame.DataFrame'>\n",
      "Int64Index: 24968 entries, 0 to 31194\n",
      "Data columns (total 3 columns):\n",
      " #   Column  Non-Null Count  Dtype         \n",
      "---  ------  --------------  -----         \n",
      " 0   title   24968 non-null  datetime64[ns]\n",
      " 1   name    24968 non-null  object        \n",
      " 2   value   24968 non-null  float64       \n",
      "dtypes: datetime64[ns](1), float64(1), object(1)\n",
      "memory usage: 780.2+ KB\n"
     ]
    },
    {
     "data": {
      "text/plain": [
       "None"
      ]
     },
     "metadata": {},
     "output_type": "display_data"
    }
   ],
   "source": [
    "df = pd.read_csv('data.csv', decimal=',')\n",
    "df[\"title\"]= pd.to_datetime(df[\"title\"], format=\"%d.%m.%Y\")\n",
    "\n",
    "df.loc[df['name'].str.contains(\"1 kk\"), 'name'] = 'euribor_1_month'\n",
    "df.loc[df['name'].str.contains(\"3 kk\"), 'name'] = 'euribor_3_month'\n",
    "df.loc[df['name'].str.contains(\"6 kk\"), 'name'] = 'euribor_6_month'\n",
    "df.loc[df['name'].str.contains(\"12 kk\"), 'name'] = 'euribor_12_month'\n",
    "df = df.drop(df[df['name'].str.contains(\"Eonia\")].index)\n",
    "\n",
    "df.dropna(inplace=True)\n",
    "\n",
    "display(df)\n",
    "display(df.info())\n",
    "\n",
    "df.to_csv('euribor_rates.csv', index=False)"
   ]
  }
 ],
 "metadata": {
  "kernelspec": {
   "display_name": "Python 3",
   "language": "python",
   "name": "python3"
  },
  "language_info": {
   "codemirror_mode": {
    "name": "ipython",
    "version": 3
   },
   "file_extension": ".py",
   "mimetype": "text/x-python",
   "name": "python",
   "nbconvert_exporter": "python",
   "pygments_lexer": "ipython3",
   "version": "3.8.13"
  },
  "orig_nbformat": 4
 },
 "nbformat": 4,
 "nbformat_minor": 2
}
